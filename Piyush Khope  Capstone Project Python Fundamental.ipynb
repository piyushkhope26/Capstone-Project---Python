# Import required libraries
import pandas as pd
import numpy as np

## Task 1: Create three dataframes and save them as CSV files

# Create Project DataFrame
project_data = {
    'ID': ['A001', 'A002', 'A003', 'A004', 'A005', 'A002', 'A005', 'A003', 'A001', 'A003', 'A001', 'A004', 'A004', 'A005'],
    'Project': ['Project 1', 'Project 2', 'Project 3', 'Project 4', 'Project 5', 'Project 6', 'Project 7', 'Project 8', 
                'Project 9', 'Project 10', 'Project 11', 'Project 12', 'Project 13', 'Project 14'],
    'Cost': [1002000, 2000000, 4500000, 5500000, None, 680000, 400000, 350000, None, 300000, 2000000, 1000000, 3000000, 200000],
    'Status': ['Finished', 'Ongoing', 'Finished', 'Ongoing', 'Finished', 'Failed', 'Finished', 'Failed', 
               'Ongoing', 'Finished', 'Failed', 'Ongoing', 'Finished', 'Finished']
}
project_df = pd.DataFrame(project_data)

# Create Employee DataFrame
employee_data = {
    'ID': ['A001', 'A002', 'A003', 'A004', 'A005'],
    'Name': ['John Alter', 'Alice Luxumberg', 'Tom Sabestine', 'Nina Adgra', 'Amy Johny'],
    'Gender': ['M', 'F', 'M', 'F', 'F'],
    'City': ['Paris', 'London', 'Berlin', 'Newyork', 'Madrid'],
    'Age': [25, 27, 29, 31, 30]
}
employee_df = pd.DataFrame(employee_data)

# Create Seniority Level DataFrame
seniority_data = {
    'ID': ['A001', 'A002', 'A003', 'A004', 'A005'],
    'Designation Level': [2, 2, 3, 2, 3]
}
seniority_df = pd.DataFrame(seniority_data)

# Save dataframes to CSV files
project_df.to_csv('project.csv', index=False)
employee_df.to_csv('employee.csv', index=False)
seniority_df.to_csv('seniority.csv', index=False)

## Task 2: Replace missing values in Cost column with running average

# Read project data from CSV
project_df = pd.read_csv('project.csv')

# Calculate running average for Cost column
running_avg = 0
count = 0

# Iterate through each row to calculate running average
for index, row in project_df.iterrows():
    if not pd.isna(row['Cost']):
        running_avg = (running_avg * count + row['Cost']) / (count + 1)
        count += 1
    else:
        project_df.at[index, 'Cost'] = running_avg

# Save updated project dataframe
project_df.to_csv('project.csv', index=False)

## Task 3: Split name column into First Name and Last Name

# Read employee data from CSV
employee_df = pd.read_csv('employee.csv')

# Split Name column into First and Last Name
employee_df[['First Name', 'LastName']] = employee_df['Name'].str.split(' ', expand=True)

# Drop the original Name column
employee_df.drop('Name', axis=1, inplace=True)

# Save updated employee dataframe
employee_df.to_csv('employee.csv', index=False)

## Task 4: Join all three dataframes into one called "Final"

# Read all CSV files
project_df = pd.read_csv('project.csv')
employee_df = pd.read_csv('employee.csv')
seniority_df = pd.read_csv('seniority.csv')

# First merge employee and seniority data
employee_seniority = pd.merge(employee_df, seniority_df, on='ID')

# Then merge with project data
final_df = pd.merge(project_df, employee_seniority, on='ID')

# Save final dataframe
final_df.to_csv('final.csv', index=False)

## Task 5: Add bonus column (5% of cost) for finished projects

# Read final dataframe
final_df = pd.read_csv('final.csv')

# Create Bonus column - 5% of cost for finished projects, 0 otherwise
final_df['Bonus'] = np.where(final_df['Status'] == 'Finished', final_df['Cost'] * 0.05, 0)

# Save updated final dataframe
final_df.to_csv('final.csv', index=False)

## Task 6: Decrease designation level for failed projects and remove employees with level > 4

# Create a dictionary to track designation level changes
designation_changes = {}

# First identify employees with failed projects
failed_projects = final_df[final_df['Status'] == 'Failed']

# Decrease designation level by 1 for each failed project
for id in failed_projects['ID'].unique():
    if id in designation_changes:
        designation_changes[id] -= 1
    else:
        designation_changes[id] = -1

# Apply changes to seniority dataframe
for id, change in designation_changes.items():
    seniority_df.loc[seniority_df['ID'] == id, 'Designation Level'] += change

# Remove employees with designation level > 4
seniority_df = seniority_df[seniority_df['Designation Level'] <= 4]

# Save updated seniority dataframe
seniority_df.to_csv('seniority.csv', index=False)

# Update final dataframe by redoing the merge
employee_seniority = pd.merge(employee_df, seniority_df, on='ID')
final_df = pd.merge(project_df, employee_seniority, on='ID')
final_df.to_csv('final.csv', index=False)

## Task 7: Add Mr./Mrs. to first name and drop gender column

# Read final dataframe
final_df = pd.read_csv('final.csv')

# Add title based on gender before dropping the column
final_df['First Name'] = np.where(final_df['Gender'] == 'M', 
                                 'Mr. ' + final_df['First Name'], 
                                 'Mrs. ' + final_df['First Name'])

# Drop the gender column
final_df.drop('Gender', axis=1, inplace=True)

# Save updated final dataframe
final_df.to_csv('final.csv', index=False)

## Task 8: Promote designation level by 1 for employees > 29 years

# Read seniority dataframe
seniority_df = pd.read_csv('seniority.csv')

# Read employee dataframe to get age information
employee_df = pd.read_csv('employee.csv')

# Merge to get age information
seniority_with_age = pd.merge(seniority_df, employee_df[['ID', 'Age']], on='ID')

# Promote designation level by 1 for employees > 29
seniority_with_age.loc[seniority_with_age['Age'] > 29, 'Designation Level'] += 1

# Update seniority dataframe
seniority_df = seniority_with_age[['ID', 'Designation Level']]

# Save updated seniority dataframe
seniority_df.to_csv('seniority.csv', index=False)

# Update final dataframe by redoing the merge
employee_seniority = pd.merge(employee_df, seniority_df, on='ID')
final_df = pd.merge(project_df, employee_seniority, on='ID')
final_df.to_csv('final.csv', index=False)

## Task 9: Create TotalProjCost dataframe with ID, First Name, and Total cost

# Read final dataframe
final_df = pd.read_csv('final.csv')

# Group by ID and First Name, then sum the Cost
total_proj_cost = final_df.groupby(['ID', 'First Name'])['Cost'].sum().reset_index()
total_proj_cost.columns = ['ID', 'First Name', 'Total cost']

# Save to new dataframe
total_proj_cost.to_csv('TotalProjCost.csv', index=False)

## Task 10: Print employee details where city contains 'o'

# Read employee dataframe
employee_df = pd.read_csv('employee.csv')

# Filter employees where city contains 'o' (case insensitive)
employees_with_o_city = employee_df[employee_df['City'].str.contains('o', case=False)]

# Print the results
print("Employees with city containing 'o':")
print(employees_with_o_city)
